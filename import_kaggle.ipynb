{
  "nbformat": 4,
  "nbformat_minor": 0,
  "metadata": {
    "colab": {
      "provenance": [],
      "authorship_tag": "ABX9TyMAufbKx3ZHQnR0fVBAtvwy",
      "include_colab_link": true
    },
    "kernelspec": {
      "name": "python3",
      "display_name": "Python 3"
    },
    "language_info": {
      "name": "python"
    }
  },
  "cells": [
    {
      "cell_type": "markdown",
      "metadata": {
        "id": "view-in-github",
        "colab_type": "text"
      },
      "source": [
        "<a href=\"https://colab.research.google.com/github/Anup-Sarkar-DD/GoogleColab_repo/blob/main/import_kaggle.ipynb\" target=\"_parent\"><img src=\"https://colab.research.google.com/assets/colab-badge.svg\" alt=\"Open In Colab\"/></a>"
      ]
    },
    {
      "cell_type": "code",
      "source": [
        "import pandas as pd\n",
        "import numpy as np\n",
        "import matplotlib.pyplot as plt\n",
        "import seaborn as sns\n",
        "import tensorflow as tf\n",
        "import keras\n",
        "import os"
      ],
      "metadata": {
        "id": "R_7T2fQzxn4p"
      },
      "execution_count": 1,
      "outputs": []
    },
    {
      "cell_type": "code",
      "source": [
        "from keras.models import Sequential\n",
        "from keras.layers import Dense, SimpleRNN, Dropout"
      ],
      "metadata": {
        "id": "hmWTlMgQyKFJ"
      },
      "execution_count": 2,
      "outputs": []
    },
    {
      "cell_type": "code",
      "source": [
        "from sklearn.model_selection import train_test_split\n",
        "from sklearn.preprocessing import MinMaxScaler\n",
        "from sklearn.metrics import mean_squared_error, mean_absolute_error, r2_score"
      ],
      "metadata": {
        "id": "geVB3kIUyS6c"
      },
      "execution_count": 3,
      "outputs": []
    },
    {
      "cell_type": "code",
      "source": [
        "# # upload kaggle  json file\n",
        "# from google.colab import files\n",
        "# files.upload()\n",
        "# #create a kaggle directory\n",
        "# ! mkdir ~/.kaggle\n",
        "# #copy the kaggle.json to folder created\n",
        "# ! cp kaggle.json ~/.kaggle/\n",
        "# #grant permission\n",
        "# ! chmod 600 ~/.kaggle/kaggle.json"
      ],
      "metadata": {
        "id": "QE8KeZayySud"
      },
      "execution_count": 4,
      "outputs": []
    },
    {
      "cell_type": "code",
      "source": [
        "# # list all the dataset on kaggle\n",
        "# ! kaggle datasets list"
      ],
      "metadata": {
        "id": "dQu05c-pECPl"
      },
      "execution_count": 5,
      "outputs": []
    },
    {
      "cell_type": "code",
      "source": [
        "# import opendatasets as od\n",
        "\n",
        "# od.download(\"https://www.kaggle.com/datasets/yujiacao1234/dogs-vs-cats-redux-kernels-edition\")"
      ],
      "metadata": {
        "colab": {
          "base_uri": "https://localhost:8080/"
        },
        "id": "pR2fmDPCE1Qh",
        "outputId": "3f024c34-8cfd-4de5-ec5d-cced8735b68c"
      },
      "execution_count": 9,
      "outputs": [
        {
          "output_type": "stream",
          "name": "stdout",
          "text": [
            "Dataset URL: https://www.kaggle.com/datasets/yujiacao1234/dogs-vs-cats-redux-kernels-edition\n",
            "Downloading dogs-vs-cats-redux-kernels-edition.zip to ./dogs-vs-cats-redux-kernels-edition\n"
          ]
        },
        {
          "output_type": "stream",
          "name": "stderr",
          "text": [
            "100%|██████████| 819M/819M [00:04<00:00, 211MB/s]\n"
          ]
        },
        {
          "output_type": "stream",
          "name": "stdout",
          "text": [
            "\n"
          ]
        }
      ]
    },
    {
      "cell_type": "code",
      "source": [
        "#df =pd.read_csv(\"/content/dogs-vs-cats-redux-kernels-edition/dogs-vs-cats-redux-kernels-edition (1)/sample_submission.csv\")"
      ],
      "metadata": {
        "id": "dy-4v5a_FyN2"
      },
      "execution_count": 14,
      "outputs": []
    },
    {
      "cell_type": "code",
      "source": [
        "# df.info()"
      ],
      "metadata": {
        "colab": {
          "base_uri": "https://localhost:8080/"
        },
        "id": "8oMFBxk-F3Xk",
        "outputId": "f6ecdf64-c9fe-4ce2-a5c1-38167f560df7"
      },
      "execution_count": 12,
      "outputs": [
        {
          "output_type": "stream",
          "name": "stdout",
          "text": [
            "<class 'pandas.core.frame.DataFrame'>\n",
            "RangeIndex: 12500 entries, 0 to 12499\n",
            "Data columns (total 2 columns):\n",
            " #   Column  Non-Null Count  Dtype  \n",
            "---  ------  --------------  -----  \n",
            " 0   id      12500 non-null  int64  \n",
            " 1   label   12500 non-null  float64\n",
            "dtypes: float64(1), int64(1)\n",
            "memory usage: 195.4 KB\n"
          ]
        }
      ]
    }
  ]
}